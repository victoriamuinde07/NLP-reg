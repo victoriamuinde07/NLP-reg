{
 "cells": [
  {
   "cell_type": "code",
   "execution_count": 1,
   "metadata": {},
   "outputs": [
    {
     "name": "stdout",
     "output_type": "stream",
     "text": [
      "Flatiron School Cafe Menu\n",
      "\n",
      "\n",
      "Appetizers\n",
      "\n",
      "Nachos - $10\n",
      "Calamari - $12\n",
      "3 Cheese Platter - $8.75\n",
      "\n",
      "Entrees\n",
      "\n",
      "Chicken Sandwich - $16.95\n",
      "A fried chicken sandwich with lettuce, tomato, and mayo. Add cheese for $1.50\n",
      "\n",
      "Flatiron Steak - $22\n",
      "A prime cut of Flatiron Steak, cooked to your liking. Comes with a side of vegetables. Add a salad or cup of soup for $3\n",
      "\n",
      "Garden Salad - $14\n",
      "A salad with stuff from the garden on our roof. 3 types of dressing available.\n",
      "\n",
      "\n",
      "Want to place an order for delivery? Call us at (555) 123-8452!\n",
      "\n"
     ]
    }
   ],
   "source": [
    "import re \n",
    "with open('menu.txt','r') as f:\n",
    "    file = f.read() \n",
    "print(file)"
   ]
  }
 ],
 "metadata": {
  "kernelspec": {
   "display_name": "base",
   "language": "python",
   "name": "python3"
  },
  "language_info": {
   "codemirror_mode": {
    "name": "ipython",
    "version": 3
   },
   "file_extension": ".py",
   "mimetype": "text/x-python",
   "name": "python",
   "nbconvert_exporter": "python",
   "pygments_lexer": "ipython3",
   "version": "3.11.7"
  }
 },
 "nbformat": 4,
 "nbformat_minor": 2
}
